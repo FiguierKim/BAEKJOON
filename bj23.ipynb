{
 "cells": [
  {
   "cell_type": "code",
   "execution_count": 1,
   "metadata": {},
   "outputs": [
    {
     "name": "stdout",
     "output_type": "stream",
     "text": [
      "5\n",
      "2\n",
      "-1\n"
     ]
    }
   ],
   "source": [
    "a = [0 for i in range(10001)]\n",
    "a[1] = 1\n",
    "for i in range(2, 98):\n",
    "    for j in range(i * 2, 10001, i):\n",
    "       a[j] = 1\n",
    "b = int(input())\n",
    "c = int(input())\n",
    "s = 0\n",
    "m = 0\n",
    "for i in range(c, b - 1, -1):\n",
    "    if a[i] == 0:\n",
    "        s += i\n",
    "        m = i\n",
    "if s == 0:\n",
    "    print(-1)\n",
    "else:\n",
    "    print(s, m, sep='\\n')"
   ]
  },
  {
   "cell_type": "code",
   "execution_count": 3,
   "metadata": {},
   "outputs": [
    {
     "name": "stdout",
     "output_type": "stream",
     "text": [
      "5 3\n"
     ]
    }
   ],
   "source": [
    "M, N = list(map(int, input().split(' ')))\n",
    "def is_prime(num):\n",
    "    if(num <= 1):\n",
    "        return False\n",
    "    \n",
    "    i = 2\n",
    "    while i * i <= num:\n",
    "        if num % i == 0:\n",
    "            return False\n",
    "        \n",
    "        i += 1\n",
    "    return True\n",
    "\n",
    "for i in range(M, N + 1):\n",
    "    if(is_prime(i)):\n",
    "        print(i)"
   ]
  },
  {
   "cell_type": "code",
   "execution_count": null,
   "metadata": {},
   "outputs": [],
   "source": []
  }
 ],
 "metadata": {
  "kernelspec": {
   "display_name": "Python 3",
   "language": "python",
   "name": "python3"
  },
  "language_info": {
   "codemirror_mode": {
    "name": "ipython",
    "version": 3
   },
   "file_extension": ".py",
   "mimetype": "text/x-python",
   "name": "python",
   "nbconvert_exporter": "python",
   "pygments_lexer": "ipython3",
   "version": "3.7.6"
  }
 },
 "nbformat": 4,
 "nbformat_minor": 2
}

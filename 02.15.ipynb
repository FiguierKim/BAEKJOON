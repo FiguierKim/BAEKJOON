{
 "cells": [
  {
   "cell_type": "markdown",
   "metadata": {},
   "source": [
    "# 쉘 정렬"
   ]
  },
  {
   "cell_type": "code",
   "execution_count": 12,
   "metadata": {},
   "outputs": [],
   "source": [
    "def shell_sort(in_a):\n",
    "    a = in_a[:]\n",
    "    h = 1\n",
    "    \n",
    "    while h < len(in_a):\n",
    "        h = 3*h + 1\n",
    "        \n",
    "    h = h // 3\n",
    "    \n",
    "    while h >= 1:\n",
    "        for i in range(h, len(a)):\n",
    "            j = i\n",
    "            \n",
    "            while j >= h and a[j] < a[j-h]:    # a[j] > a[j-h] 부등호를 바꿔서 오름차순, 내림차순 선택가능\n",
    "                a[j], a[j-h] = a[j-h], a[j]\n",
    "                j -= h\n",
    "                \n",
    "        h //= 3\n",
    "        \n",
    "    return a\n",
    "                "
   ]
  },
  {
   "cell_type": "code",
   "execution_count": 13,
   "metadata": {},
   "outputs": [
    {
     "name": "stdout",
     "output_type": "stream",
     "text": [
      "[11, 67, 47, 6, 62, 63, 91, 36, 16, 90]\n",
      "[6, 11, 16, 36, 47, 62, 63, 67, 90, 91]\n",
      "[11, 67, 47, 6, 62, 63, 91, 36, 16, 90]\n"
     ]
    }
   ],
   "source": [
    "import random\n",
    "\n",
    "a = []\n",
    "\n",
    "for i in range(10):\n",
    "    a.append(random.randint(1, 100))\n",
    "\n",
    "print(a)\n",
    "print(shell_sort(a))\n",
    "print(a)"
   ]
  },
  {
   "cell_type": "markdown",
   "metadata": {},
   "source": [
    "# 기수정렬"
   ]
  },
  {
   "cell_type": "code",
   "execution_count": 17,
   "metadata": {},
   "outputs": [
    {
     "name": "stdout",
     "output_type": "stream",
     "text": [
      "[62, 66, 89, 16, 1, 95, 39, 18, 65, 4]\n",
      "[1, 4, 16, 18, 39, 62, 65, 66, 89, 95]\n",
      "[62, 66, 89, 16, 1, 95, 39, 18, 65, 4]\n"
     ]
    }
   ],
   "source": [
    "def countingSort(nums, digit_index, base):\n",
    "    buckets = [[] for _ in range(base)]\n",
    "    \n",
    "    for n in nums:\n",
    "        digit = (n // (base**digit_index)) % base\n",
    "        buckets[digit].append(n)\n",
    "        \n",
    "    result = []\n",
    "    \n",
    "    for b in buckets:\n",
    "        for n in b:\n",
    "            result.append(n)\n",
    "            \n",
    "    return result\n",
    "\n",
    "def radix_Sort(in_a):\n",
    "    result = in_a[:]\n",
    "    maximum = max(result)\n",
    "    max_n_digits = len(str(maximum))\n",
    "    \n",
    "    for i in range(max_n_digits):\n",
    "        result = countingSort(result, i, 10)  # 10은 base\n",
    "    \n",
    "    \n",
    "a = []\n",
    "\n",
    "for i in range(10):\n",
    "    a.append(random.randint(1, 100))\n",
    "\n",
    "print(a)\n",
    "print(shell_sort(a))\n",
    "print(a)"
   ]
  },
  {
   "cell_type": "code",
   "execution_count": 81,
   "metadata": {},
   "outputs": [
    {
     "name": "stdout",
     "output_type": "stream",
     "text": [
      "쉘, 　걸린 시간 :  70.0\n",
      "버블, 걸린 시간 :  2065.0\n",
      "퀵, 　걸린 시간 :  1397.0\n",
      "병합, 걸린 시간 :  0.0\n"
     ]
    }
   ],
   "source": [
    "import random\n",
    "import time\n",
    "\n",
    "def countingSort(nums, digit_index, base):\n",
    "    buckets = [[] for _ in range(base)]\n",
    "    \n",
    "    for n in nums:\n",
    "        digit = (n // (base**digit_index)) % base\n",
    "        buckets[digit].append(n)\n",
    "        \n",
    "    result = []\n",
    "    \n",
    "    for b in buckets:\n",
    "        for n in b:\n",
    "            result.append(n)\n",
    "            \n",
    "    return result\n",
    "\n",
    "def shell_sort(in_a):\n",
    "    a = in_a[:]\n",
    "    h = 1\n",
    "    \n",
    "    while h < len(in_a):\n",
    "        h = 3*h + 1\n",
    "        \n",
    "    h = h // 3\n",
    "    \n",
    "    while h >= 1:\n",
    "        for i in range(h, len(a)):\n",
    "            j = i\n",
    "            \n",
    "            while j >= h and a[j] < a[j-h]:    # a[j] > a[j-h] 부등호를 바꿔서 오름차순, 내림차순 선택가능\n",
    "                a[j], a[j-h] = a[j-h], a[j]\n",
    "                j -= h\n",
    "                \n",
    "        h //= 3\n",
    "        \n",
    "    return a\n",
    "\n",
    "def radix_Sort(in_a):\n",
    "    result = in_a[:]\n",
    "    maximum = max(result)\n",
    "    max_n_digits = len(str(maximum))\n",
    "    \n",
    "    for i in range(max_n_digits):\n",
    "        result = countingSort(result, i, 10)  # 10은 base\n",
    "  \n",
    "\n",
    "def merge_sort(a):\n",
    "    n = len(a)\n",
    "    \n",
    "    if n <= 1:\n",
    "        #print(a)\n",
    "        return a\n",
    "    \n",
    "    mid = n//2\n",
    "    g1 = merge_sort(a[:mid])\n",
    "\n",
    "    g2 = merge_sort(a[mid:])\n",
    "\n",
    "    \n",
    "    result = []\n",
    "    \n",
    "    while g1 and g2:\n",
    "        if g1[0] < g2[0]:\n",
    "            result.append(g1.pop(0))\n",
    "        else:\n",
    "            result.append(g2.pop(0))\n",
    "            \n",
    "    while g1:\n",
    "        result.append(g1.pop(0))\n",
    "        \n",
    "    while g2:\n",
    "        result.append(g2.pop(0))\n",
    "        \n",
    "    return result\n",
    "\n",
    "def quick_sort(a):\n",
    "    quick_sort_sup(a, 0, len(a)-1)\n",
    "    \n",
    "def quick_sort_sup(a, start, end):\n",
    "    if end - start <= 0:\n",
    "        return\n",
    "    \n",
    "    pivot = a[end]\n",
    "    i = start\n",
    "    \n",
    "    for j in range(start, end):\n",
    "        if a[j] <= pivot:\n",
    "            a[i], a[j] = a[j], a[i]\n",
    "            i += 1\n",
    "        \n",
    "    a[i], a[end] = a[end], a[i]\n",
    "    \n",
    "    quick_sort_sup(a, start, i-1)\n",
    "    quick_sort_sup(a, i+1, end)\n",
    " \n",
    "def bubble_sort(a):\n",
    "    n = len(a)\n",
    "    while True:\n",
    "        changed = False\n",
    "        \n",
    "        for i in range(0, n-1):\n",
    "            if a[i] > a [i+1]:\n",
    "                a[i], a[i+1] = a[i+1], a[i]\n",
    "                changed = True\n",
    "        \n",
    "        if changed == False:\n",
    "            return\n",
    "\n",
    "\n",
    "a = []\n",
    "list_num = 1000\n",
    "for i in range(list_num):\n",
    "    a.append(random.randint(1, 100))\n",
    "\n",
    "data_num = 10000000\n",
    "    \n",
    "\n",
    "start = time.time()\n",
    "shell_sort(a)\n",
    "print('쉘, 　걸린 시간 : ',(time.time()-start)*data_num//list_num)\n",
    "\n",
    "start = time.time()\n",
    "bubble_sort(a)\n",
    "print('버블, 걸린 시간 : ',(time.time()-start)*data_num//list_num)\n",
    "\n",
    "start = time.time()\n",
    "quick_sort(a)\n",
    "print('퀵, 　걸린 시간 : ',(time.time()-start)*data_num//list_num)\n",
    "\n",
    "\n",
    "start = time.time()\n",
    "merge_sort(a)\n",
    "print('병합, 걸린 시간 : ',(time.time()-start)*data_num//list_num)\n",
    "\n"
   ]
  },
  {
   "cell_type": "markdown",
   "metadata": {},
   "source": [
    "# 히프 정렬"
   ]
  },
  {
   "cell_type": "code",
   "execution_count": 69,
   "metadata": {},
   "outputs": [],
   "source": [
    "def heapify(arr, n, i):           # 히프 속성을 맞추기 위한 메소드, i = root\n",
    "    largest = i\n",
    "    l = i * 2 + 1\n",
    "    r = i * 2 + 2\n",
    "    \n",
    "    if l < n and arr[i] < arr[l]:\n",
    "        largest = l\n",
    "    \n",
    "    if r < n and arr[largest] < arr[r]:\n",
    "        largest = r\n",
    "        \n",
    "    if largest != i:\n",
    "        arr[i], arr[largest] = arr[largest], arr[i]\n",
    "        heapify(arr, n, largest)"
   ]
  },
  {
   "cell_type": "code",
   "execution_count": 79,
   "metadata": {},
   "outputs": [
    {
     "name": "stdout",
     "output_type": "stream",
     "text": [
      "[96, 75, 87, 67, 61, 70, 47, 4, 47, 99]\n",
      "[87, 75, 70, 67, 61, 47, 47, 4, 96, 99]\n",
      "[75, 67, 70, 4, 61, 47, 47, 87, 96, 99]\n",
      "[70, 67, 47, 4, 61, 47, 75, 87, 96, 99]\n",
      "[67, 61, 47, 4, 47, 70, 75, 87, 96, 99]\n",
      "[61, 47, 47, 4, 67, 70, 75, 87, 96, 99]\n",
      "[47, 4, 47, 61, 67, 70, 75, 87, 96, 99]\n",
      "[47, 4, 47, 61, 67, 70, 75, 87, 96, 99]\n",
      "[4, 47, 47, 61, 67, 70, 75, 87, 96, 99]\n"
     ]
    }
   ],
   "source": [
    "def heap_sort(in_a):\n",
    "    n = len(in_a)\n",
    "    \n",
    "    for i in range(n-1, -1, -1):\n",
    "        heapify(arr, n, i)\n",
    "    \n",
    "    for i in range(n-1, 0, -1):\n",
    "        arr[i], arr[0] = arr[0], arr[i]\n",
    "        heapify(arr, i, 0)\n",
    "        print(arr)\n",
    "        \n",
    "arr = []\n",
    "list_num = 10\n",
    "for i in range(list_num):\n",
    "    arr.append(random.randint(1, 100))\n",
    "\n",
    "\n",
    "heap_sort(arr)"
   ]
  },
  {
   "cell_type": "code",
   "execution_count": 80,
   "metadata": {},
   "outputs": [
    {
     "name": "stdout",
     "output_type": "stream",
     "text": [
      "히프, 걸린 시간 :  12000.0\n",
      "[93, 76, 72, 60, 39, 33, 31, 30, 20, 7]\n"
     ]
    }
   ],
   "source": [
    "def heap_sort(in_arr, style = 'UP'):\n",
    "    arr = in_arr[:]\n",
    "    n = len(arr)\n",
    "    \n",
    "    for i in range(n, -1, -1):\n",
    "        heapify(arr, n, i)\n",
    "    result = []\n",
    "    \n",
    "    while arr:\n",
    "        if style == 'UP':\n",
    "            result.insert(0, arr.pop(0))\n",
    "        else:\n",
    "            result.append(arr.pop(0))\n",
    "        heapify(arr, len(arr), 0)\n",
    "    return result\n",
    "\n",
    "arr = []\n",
    "list_num = 10\n",
    "for i in range(list_num):\n",
    "    arr.append(random.randint(1, 100))\n",
    "\n",
    "start = time.time()\n",
    "heap_sort(a)\n",
    "print('히프, 걸린 시간 : ',(time.time()-start)*data_num//list_num)\n",
    "\n",
    "print(heap_sort(arr, 0))"
   ]
  },
  {
   "cell_type": "markdown",
   "metadata": {},
   "source": [
    "# 검색"
   ]
  },
  {
   "cell_type": "code",
   "execution_count": 98,
   "metadata": {},
   "outputs": [
    {
     "name": "stdout",
     "output_type": "stream",
     "text": [
      "4\n",
      "없음\n"
     ]
    }
   ],
   "source": [
    "def b_search(a, x):\n",
    "    start = 0\n",
    "    end = len(a)-1\n",
    "    \n",
    "    while start <= end:                \n",
    "        mid = (start + end) // 2\n",
    "        if x == a[mid]:\n",
    "            return mid\n",
    "        elif x > a[mid]:\n",
    "            start = mid + 1\n",
    "        else:\n",
    "            end = mid - 1\n",
    "    return '없음'\n",
    "\n",
    "b = [1, 2, 3, 4, 5, 6, 7, 8, 9, 10]\n",
    "\n",
    "\n",
    "print(b_search(b, 5))\n",
    "print(b_search(b, 11))"
   ]
  },
  {
   "cell_type": "markdown",
   "metadata": {},
   "source": [
    "# 해싱"
   ]
  },
  {
   "cell_type": "code",
   "execution_count": null,
   "metadata": {},
   "outputs": [],
   "source": []
  }
 ],
 "metadata": {
  "kernelspec": {
   "display_name": "Python 3",
   "language": "python",
   "name": "python3"
  },
  "language_info": {
   "codemirror_mode": {
    "name": "ipython",
    "version": 3
   },
   "file_extension": ".py",
   "mimetype": "text/x-python",
   "name": "python",
   "nbconvert_exporter": "python",
   "pygments_lexer": "ipython3",
   "version": "3.7.3"
  }
 },
 "nbformat": 4,
 "nbformat_minor": 4
}

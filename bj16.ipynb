{
 "cells": [
  {
   "cell_type": "code",
   "execution_count": 32,
   "metadata": {},
   "outputs": [
    {
     "name": "stdout",
     "output_type": "stream",
     "text": [
      "56\n",
      "5\n"
     ]
    }
   ],
   "source": [
    "N = int(input())\n",
    "\n",
    "first = 1\n",
    "\n",
    "plus = 6\n",
    "\n",
    "room = 1\n",
    "\n",
    "if N == 1:\n",
    "\n",
    "    print(1)\n",
    "\n",
    "else:\n",
    "\n",
    "    while True:\n",
    "\n",
    "        first = first + plus\n",
    "\n",
    "        room+= 1\n",
    "\n",
    "        if N <= first:\n",
    "\n",
    "            print(room)\n",
    "\n",
    "            break\n",
    "\n",
    "        plus += 6"
   ]
  },
  {
   "cell_type": "code",
   "execution_count": 45,
   "metadata": {},
   "outputs": [
    {
     "name": "stdout",
     "output_type": "stream",
     "text": [
      "1\n",
      "1/1\n"
     ]
    }
   ],
   "source": [
    "x = int(input())\n",
    " \n",
    "count = 0\n",
    " \n",
    "while x > 0:\n",
    "    x -= count\n",
    "    count += 1\n",
    " \n",
    "x = count + x - 1\n",
    " \n",
    "anw = str(x) + '/' + str(count - x)\n",
    "if count % 2 == 0:\n",
    "    anw = str(count - x) + '/' + str(x)\n",
    "print(anw)"
   ]
  },
  {
   "cell_type": "code",
   "execution_count": null,
   "metadata": {},
   "outputs": [],
   "source": []
  }
 ],
 "metadata": {
  "kernelspec": {
   "display_name": "Python 3",
   "language": "python",
   "name": "python3"
  },
  "language_info": {
   "codemirror_mode": {
    "name": "ipython",
    "version": 3
   },
   "file_extension": ".py",
   "mimetype": "text/x-python",
   "name": "python",
   "nbconvert_exporter": "python",
   "pygments_lexer": "ipython3",
   "version": "3.7.5"
  }
 },
 "nbformat": 4,
 "nbformat_minor": 2
}

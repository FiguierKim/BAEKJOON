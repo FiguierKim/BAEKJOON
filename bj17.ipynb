{
 "cells": [
  {
   "cell_type": "code",
   "execution_count": 18,
   "metadata": {},
   "outputs": [
    {
     "name": "stdout",
     "output_type": "stream",
     "text": [
      "7\n",
      "5040\n"
     ]
    }
   ],
   "source": [
    "def fac(n):\n",
    "    if n<=1: \n",
    "        return 1\n",
    "    else: \n",
    "        return n * fac(n-1)\n",
    "\n",
    "print(fac(int(input())))"
   ]
  },
  {
   "cell_type": "code",
   "execution_count": 11,
   "metadata": {},
   "outputs": [
    {
     "name": "stdout",
     "output_type": "stream",
     "text": [
      "10\n",
      "55\n"
     ]
    }
   ],
   "source": [
    "e = [0, 1]\n",
    "\n",
    "def fib(n):\n",
    "    if 0 <= n < 21:\n",
    "        for i in range(2, n + 1):\n",
    "            e.append(e[i - 1] + e[i - 2])\n",
    "        return print(e[n])\n",
    "    else:\n",
    "        return print('1 이상 20 이하의 자연수나 0을 입력하세요')\n",
    "    \n",
    "fib(int(input()))"
   ]
  },
  {
   "cell_type": "code",
   "execution_count": null,
   "metadata": {},
   "outputs": [],
   "source": []
  }
 ],
 "metadata": {
  "kernelspec": {
   "display_name": "Python 3",
   "language": "python",
   "name": "python3"
  },
  "language_info": {
   "codemirror_mode": {
    "name": "ipython",
    "version": 3
   },
   "file_extension": ".py",
   "mimetype": "text/x-python",
   "name": "python",
   "nbconvert_exporter": "python",
   "pygments_lexer": "ipython3",
   "version": "3.7.6"
  }
 },
 "nbformat": 4,
 "nbformat_minor": 2
}

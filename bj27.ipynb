{
 "cells": [
  {
   "cell_type": "code",
   "execution_count": 3,
   "metadata": {},
   "outputs": [
    {
     "name": "stdout",
     "output_type": "stream",
     "text": [
      "1 3 5\n",
      "wrong\n",
      "2 2 2\n",
      "wrong\n",
      "3 3 3\n",
      "wrong\n",
      "3 4 5\n",
      "right\n",
      "0\n"
     ]
    }
   ],
   "source": [
    "while(True):\n",
    "    num_list = list(map(int, input().split()))\n",
    "    if(sum(num_list) == 0):\n",
    "        break\n",
    "    \n",
    "    hypo = max(num_list); num_list.remove(hypo)\n",
    "    num = sum(list(map(lambda x : x ** 2, num_list)))\n",
    "    if((hypo ** 2) == num):\n",
    "        print('right')\n",
    "    else:\n",
    "        print('wrong')"
   ]
  },
  {
   "cell_type": "code",
   "execution_count": null,
   "metadata": {},
   "outputs": [],
   "source": []
  }
 ],
 "metadata": {
  "kernelspec": {
   "display_name": "Python 3",
   "language": "python",
   "name": "python3"
  },
  "language_info": {
   "codemirror_mode": {
    "name": "ipython",
    "version": 3
   },
   "file_extension": ".py",
   "mimetype": "text/x-python",
   "name": "python",
   "nbconvert_exporter": "python",
   "pygments_lexer": "ipython3",
   "version": "3.7.6"
  }
 },
 "nbformat": 4,
 "nbformat_minor": 2
}

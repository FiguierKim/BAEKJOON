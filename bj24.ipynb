{
 "cells": [
  {
   "cell_type": "code",
   "execution_count": 3,
   "metadata": {},
   "outputs": [
    {
     "name": "stdout",
     "output_type": "stream",
     "text": [
      "5\n",
      "1\n",
      "6\n",
      "2\n",
      "1\n",
      "1\n",
      "100\n",
      "21\n",
      "0\n"
     ]
    }
   ],
   "source": [
    "N = 123456 * 2 + 1\n",
    "sieve = [True] * N\n",
    "\n",
    "for i in range(2, int(N**0.5)+1):\n",
    "    if sieve[i]:\n",
    "        for j in range(2*i, N, i):\n",
    "            sieve[j] = False\n",
    "\n",
    "def prime_cnt(val):\n",
    "    cnt = 0\n",
    "    for i in range(val + 1, val * 2 + 1):\n",
    "        if sieve[i]:\n",
    "            cnt += 1\n",
    "    print(cnt)\n",
    "\n",
    "while True:\n",
    "    val = int(input())\n",
    "    if val == 0:\n",
    "        break\n",
    "    prime_cnt(val)"
   ]
  },
  {
   "cell_type": "code",
   "execution_count": 8,
   "metadata": {},
   "outputs": [
    {
     "name": "stdout",
     "output_type": "stream",
     "text": [
      "5\n",
      "6\n",
      "3 3\n",
      "4\n",
      "2 2\n",
      "8\n",
      "3 5\n",
      "9\n",
      "2 7\n",
      "7\n",
      "2 5\n"
     ]
    }
   ],
   "source": [
    "m = 10000\n",
    "s = [0,0] + [1]*(m-1)\n",
    "for i in range(2, int(m**0.5)+1):\n",
    "    for j in range(i+i, m+1, i):\n",
    "        if s[i]: s[j]=0\n",
    "for _ in range(int(input())):\n",
    "    n = int(input())\n",
    "    r = [(x, n-x) for x, y in enumerate(s[:n//2+1]) if y and s[n-x]][-1]\n",
    "    print(r[0], r[1])"
   ]
  },
  {
   "cell_type": "code",
   "execution_count": null,
   "metadata": {},
   "outputs": [],
   "source": []
  }
 ],
 "metadata": {
  "kernelspec": {
   "display_name": "Python 3",
   "language": "python",
   "name": "python3"
  },
  "language_info": {
   "codemirror_mode": {
    "name": "ipython",
    "version": 3
   },
   "file_extension": ".py",
   "mimetype": "text/x-python",
   "name": "python",
   "nbconvert_exporter": "python",
   "pygments_lexer": "ipython3",
   "version": "3.7.6"
  }
 },
 "nbformat": 4,
 "nbformat_minor": 2
}

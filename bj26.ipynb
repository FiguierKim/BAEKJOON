{
 "cells": [
  {
   "cell_type": "code",
   "execution_count": 1,
   "metadata": {},
   "outputs": [
    {
     "name": "stdout",
     "output_type": "stream",
     "text": [
      "5 6 8 9\n",
      "3\n"
     ]
    }
   ],
   "source": [
    "x, y, w, h = list(map(int, input().split()))\n",
    "print(min([x, y, w - x, h - y]))"
   ]
  },
  {
   "cell_type": "code",
   "execution_count": 2,
   "metadata": {},
   "outputs": [
    {
     "name": "stdout",
     "output_type": "stream",
     "text": [
      "10 20\n",
      "20 30\n",
      "20 20\n",
      "10 30\n"
     ]
    }
   ],
   "source": [
    "x_ = []\n",
    "y_ = []\n",
    "\n",
    "for i in range(3):\n",
    "        x, y = map(int, input().split())\n",
    "        x_.append(x)\n",
    "        y_.append(y)\n",
    "for i in range(3):\n",
    "        if x_.count(x_[i]) == 1:\n",
    "                x = x_[i]\n",
    "        if y_.count(y_[i]) == 1:\n",
    "                y = y_[i]\n",
    "print(x, y)"
   ]
  },
  {
   "cell_type": "code",
   "execution_count": null,
   "metadata": {},
   "outputs": [],
   "source": []
  }
 ],
 "metadata": {
  "kernelspec": {
   "display_name": "Python 3",
   "language": "python",
   "name": "python3"
  },
  "language_info": {
   "codemirror_mode": {
    "name": "ipython",
    "version": 3
   },
   "file_extension": ".py",
   "mimetype": "text/x-python",
   "name": "python",
   "nbconvert_exporter": "python",
   "pygments_lexer": "ipython3",
   "version": "3.7.6"
  }
 },
 "nbformat": 4,
 "nbformat_minor": 2
}

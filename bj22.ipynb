{
 "cells": [
  {
   "cell_type": "code",
   "execution_count": 27,
   "metadata": {},
   "outputs": [
    {
     "name": "stdout",
     "output_type": "stream",
     "text": [
      "5\n",
      "1\n",
      "13\n",
      "2\n",
      "31\n",
      "3\n",
      "10.0\n",
      "2\n",
      "13\n",
      "30\n"
     ]
    }
   ],
   "source": [
    "import sys\n",
    "from collections import Counter\n",
    "\n",
    "N = int(input())\n",
    "a = []\n",
    "[a.append(int((input()))) for i in range(N) ]\n",
    "\n",
    "def mode(nums):\n",
    "    mode_dict = Counter(nums)\n",
    "    modes = mode_dict.most_common()    \n",
    "    \n",
    "    if len(nums) > 1 : \n",
    "        if modes[0][1] == modes[1][1]:\n",
    "            mod = modes[1][0]\n",
    "        else : \n",
    "            mod = modes[0][0]\n",
    "    else : \n",
    "        mod = modes[0][0]\n",
    "\n",
    "    return mod\n",
    "        \n",
    "print(sum(a)/len(a))\n",
    "print(a[len(a)//2])\n",
    "print(mode(a))\n",
    "print(max(a)-min(a))"
   ]
  },
  {
   "cell_type": "markdown",
   "metadata": {},
   "source": [
    "# 좀 더 나은 코드(참조용)"
   ]
  },
  {
   "cell_type": "code",
   "execution_count": 28,
   "metadata": {},
   "outputs": [
    {
     "ename": "ValueError",
     "evalue": "invalid literal for int() with base 10: ''",
     "output_type": "error",
     "traceback": [
      "\u001b[1;31m---------------------------------------------------------------------------\u001b[0m",
      "\u001b[1;31mValueError\u001b[0m                                Traceback (most recent call last)",
      "\u001b[1;32m<ipython-input-28-28525c980805>\u001b[0m in \u001b[0;36m<module>\u001b[1;34m\u001b[0m\n\u001b[0;32m      3\u001b[0m \u001b[1;33m\u001b[0m\u001b[0m\n\u001b[0;32m      4\u001b[0m \u001b[1;31m#main\u001b[0m\u001b[1;33m\u001b[0m\u001b[1;33m\u001b[0m\u001b[1;33m\u001b[0m\u001b[0m\n\u001b[1;32m----> 5\u001b[1;33m \u001b[0mt\u001b[0m \u001b[1;33m=\u001b[0m \u001b[0mint\u001b[0m\u001b[1;33m(\u001b[0m\u001b[0msys\u001b[0m\u001b[1;33m.\u001b[0m\u001b[0mstdin\u001b[0m\u001b[1;33m.\u001b[0m\u001b[0mreadline\u001b[0m\u001b[1;33m(\u001b[0m\u001b[1;33m)\u001b[0m\u001b[1;33m)\u001b[0m\u001b[1;33m\u001b[0m\u001b[1;33m\u001b[0m\u001b[0m\n\u001b[0m\u001b[0;32m      6\u001b[0m \u001b[1;33m\u001b[0m\u001b[0m\n\u001b[0;32m      7\u001b[0m \u001b[0mnumbers\u001b[0m \u001b[1;33m=\u001b[0m \u001b[1;33m[\u001b[0m\u001b[1;33m]\u001b[0m\u001b[1;33m\u001b[0m\u001b[1;33m\u001b[0m\u001b[0m\n",
      "\u001b[1;31mValueError\u001b[0m: invalid literal for int() with base 10: ''"
     ]
    }
   ],
   "source": [
    "import sys \n",
    "from collections import Counter\n",
    "\n",
    "#main\n",
    "t = int(sys.stdin.readline())\n",
    "\n",
    "numbers = []\n",
    "for _ in range(t):\n",
    "    numbers.append(int(sys.stdin.readline()))\n",
    "    \n",
    "def mean(nums):\n",
    "    return round(sum(nums)/len(nums))\n",
    "\n",
    "def median(nums):\n",
    "    nums.sort()\n",
    "    mid = nums[len(nums)//2] # nums의 개수는 홀수\n",
    "    \n",
    "    return mid\n",
    "\n",
    "def mode(nums):\n",
    "    mode_dict = Counter(nums)\n",
    "    modes = mode_dict.most_common()    \n",
    "    \n",
    "    if len(nums) > 1 : \n",
    "        if modes[0][1] == modes[1][1]:\n",
    "            mod = modes[1][0]\n",
    "        else : \n",
    "            mod = modes[0][0]\n",
    "    else : \n",
    "        mod = modes[0][0]\n",
    "\n",
    "    return mod\n",
    "        \n",
    "def scope(nums):\n",
    "    return max(nums) - min(nums)\n",
    "\n",
    "print(mean(numbers))\n",
    "print(median(numbers))\n",
    "print(mode(numbers))\n",
    "print(scope(numbers))"
   ]
  },
  {
   "cell_type": "code",
   "execution_count": 34,
   "metadata": {},
   "outputs": [
    {
     "name": "stdout",
     "output_type": "stream",
     "text": [
      "1\n",
      "2\n",
      "1\n"
     ]
    }
   ],
   "source": [
    "N = int(input())\n",
    "a = list(map(int, input().split(' ')))\n",
    "s = 0\n",
    "\n",
    "if len(a) == N:\n",
    "    for i in a:\n",
    "        count = 0\n",
    "        for j in range(1,i+1):\n",
    "            if i % j == 0:\n",
    "                count += 1\n",
    "        if count == 2:\n",
    "            s += 1\n",
    "print(s)"
   ]
  },
  {
   "cell_type": "code",
   "execution_count": null,
   "metadata": {},
   "outputs": [],
   "source": []
  }
 ],
 "metadata": {
  "kernelspec": {
   "display_name": "Python 3",
   "language": "python",
   "name": "python3"
  },
  "language_info": {
   "codemirror_mode": {
    "name": "ipython",
    "version": 3
   },
   "file_extension": ".py",
   "mimetype": "text/x-python",
   "name": "python",
   "nbconvert_exporter": "python",
   "pygments_lexer": "ipython3",
   "version": "3.7.6"
  }
 },
 "nbformat": 4,
 "nbformat_minor": 2
}

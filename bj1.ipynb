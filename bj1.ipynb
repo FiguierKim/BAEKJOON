{
 "cells": [
  {
   "cell_type": "code",
   "execution_count": 24,
   "metadata": {},
   "outputs": [
    {
     "name": "stdout",
     "output_type": "stream",
     "text": [
      "Hello World!\n"
     ]
    }
   ],
   "source": [
    "print('Hello World!')"
   ]
  },
  {
   "cell_type": "code",
   "execution_count": 23,
   "metadata": {},
   "outputs": [
    {
     "name": "stdout",
     "output_type": "stream",
     "text": [
      "\\    /\\\n",
      " )  ( ')\n",
      "(  /  )\n",
      " \\(\n"
     ]
    }
   ],
   "source": [
    "print('\\    /\\\\')\n",
    "print(\" )  ( ')\")\n",
    "print('(  /  )')      \n",
    "print(' \\(__)|')"
   ]
  },
  {
   "cell_type": "code",
   "execution_count": 19,
   "metadata": {},
   "outputs": [
    {
     "name": "stdout",
     "output_type": "stream",
     "text": [
      "/\\\n"
     ]
    }
   ],
   "source": [
    "print('/\\\\')"
   ]
  },
  {
   "cell_type": "code",
   "execution_count": 22,
   "metadata": {},
   "outputs": [
    {
     "name": "stdout",
     "output_type": "stream",
     "text": [
      " \\(__)|\n"
     ]
    }
   ],
   "source": [
    "print(' \\(__)|')"
   ]
  },
  {
   "cell_type": "code",
   "execution_count": 54,
   "metadata": {},
   "outputs": [
    {
     "name": "stdout",
     "output_type": "stream",
     "text": [
      "|\\_/|\n",
      "|q p|   /}\n",
      "( 0 )\"\"\"\\\n",
      "|\"^\"`         |\n",
      "||_/=\\\\__|\n"
     ]
    }
   ],
   "source": [
    "print('|\\_/|')\n",
    "print('|q p|   /}')\n",
    "print('( 0 )\"\"\"\\\\')\n",
    "print('|\"^\"`         |')\n",
    "print('||_/=\\\\\\__|')"
   ]
  },
  {
   "cell_type": "code",
   "execution_count": 37,
   "metadata": {},
   "outputs": [
    {
     "ename": "SyntaxError",
     "evalue": "invalid syntax (<ipython-input-37-3a8e8930796b>, line 1)",
     "output_type": "error",
     "traceback": [
      "\u001b[1;36m  File \u001b[1;32m\"<ipython-input-37-3a8e8930796b>\"\u001b[1;36m, line \u001b[1;32m1\u001b[0m\n\u001b[1;33m    |\\_/|\u001b[0m\n\u001b[1;37m    ^\u001b[0m\n\u001b[1;31mSyntaxError\u001b[0m\u001b[1;31m:\u001b[0m invalid syntax\n"
     ]
    }
   ],
   "source": [
    "|\\_/|\n",
    "|q p|   /}\n",
    "( 0 )\"\"\"\\\n",
    "|\"^\"`    |\n",
    "||_/=\\\\__|"
   ]
  },
  {
   "cell_type": "code",
   "execution_count": 49,
   "metadata": {},
   "outputs": [
    {
     "name": "stdout",
     "output_type": "stream",
     "text": [
      "|\\_/|\n",
      "|q p|   /}\n",
      "( 0 )\"\"\"\\\n",
      "|\"^\"`    |\n",
      "||_/=\\\\__|\n"
     ]
    }
   ],
   "source": [
    "print(\"|\\_/|\")\n",
    "print(\"|q p|   /}\")\n",
    "print(\"( 0 )\\\"\\\"\\\"\\\\\")\n",
    "print(\"|\\\"^\\\"`    |\")\n",
    "print(\"||_/=\\\\\\__|\")"
   ]
  },
  {
   "cell_type": "code",
   "execution_count": 61,
   "metadata": {},
   "outputs": [
    {
     "name": "stdout",
     "output_type": "stream",
     "text": [
      "123 \n",
      "Your_ICPC_Team_Name\n"
     ]
    }
   ],
   "source": [
    "print(123,'\\nYour_ICPC_Team_Name')"
   ]
  },
  {
   "cell_type": "code",
   "execution_count": 73,
   "metadata": {},
   "outputs": [
    {
     "name": "stdout",
     "output_type": "stream",
     "text": [
      "0 < A : 5\n",
      "B < 10 : 6\n",
      "11\n"
     ]
    }
   ],
   "source": [
    "A = int(input('0 < A : '))\n",
    "B = int(input('B < 10 : '))\n",
    "print(A+B)"
   ]
  },
  {
   "cell_type": "code",
   "execution_count": 76,
   "metadata": {},
   "outputs": [
    {
     "name": "stdout",
     "output_type": "stream",
     "text": [
      "1 56\n",
      "57\n"
     ]
    }
   ],
   "source": [
    "a, b = map(int, input().split())\n",
    "print(a+b)"
   ]
  },
  {
   "cell_type": "code",
   "execution_count": null,
   "metadata": {},
   "outputs": [],
   "source": []
  }
 ],
 "metadata": {
  "kernelspec": {
   "display_name": "Python 3",
   "language": "python",
   "name": "python3"
  },
  "language_info": {
   "codemirror_mode": {
    "name": "ipython",
    "version": 3
   },
   "file_extension": ".py",
   "mimetype": "text/x-python",
   "name": "python",
   "nbconvert_exporter": "python",
   "pygments_lexer": "ipython3",
   "version": "3.7.5"
  }
 },
 "nbformat": 4,
 "nbformat_minor": 2
}

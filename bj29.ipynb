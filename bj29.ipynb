{
 "cells": [
  {
   "cell_type": "code",
   "execution_count": null,
   "metadata": {},
   "outputs": [],
   "source": []
  },
  {
   "cell_type": "code",
   "execution_count": 15,
   "metadata": {},
   "outputs": [
    {
     "name": "stdout",
     "output_type": "stream",
     "text": [
      "3\n",
      "0 0 13 40 0 37\n",
      "2\n",
      "0 0 3 0 7 4\n",
      "1\n",
      "1 1 1 1 1 5\n",
      "2\n"
     ]
    }
   ],
   "source": [
    "n = int(input())\n",
    "\n",
    "for i in range(n):\n",
    "    x1, y1, r1, x2, y2, r2 = map (int, input().split())\n",
    "    r = ((x1 -x2)**2 + (y1 - y2)**2)**(1/2)\n",
    "    R = [r1, r2, r]\n",
    "    m = max(R)\n",
    "    print(-1 if ( r == 0 and r1 == r2) else 1 if ( r == r1 + r2 or m == sum(R)) else 0 if ( m > sum(R)) else 2)"
   ]
  },
  {
   "cell_type": "code",
   "execution_count": 16,
   "metadata": {},
   "outputs": [
    {
     "name": "stdout",
     "output_type": "stream",
     "text": [
      "3\n",
      "0 0 13 40 0 37\n",
      "2\n",
      "0 0 3 0 7 4 \n",
      "1\n",
      "1 1 1 1 1 5\n",
      "0\n"
     ]
    }
   ],
   "source": [
    "n = int(input())\n",
    "\n",
    "for i in range(n):\n",
    "    x1, y1, r1, x2, y2, r2 = map(int, input().split())\n",
    "    d = ((x2 - x1) ** 2 + (y2 - y1) ** 2) ** 0.5\n",
    "    rs = r1 + r2\n",
    "    rm = abs(r1 - r2)\n",
    "    if d == 0:\n",
    "        if r1 == r2:\n",
    "            print(-1)\n",
    "        else:\n",
    "            print(0)\n",
    "    else:\n",
    "        if d == rs or d == rm:\n",
    "            print(1)\n",
    "        elif d < rs and d > rm:\n",
    "            print(2)\n",
    "        else:\n",
    "            print(0)"
   ]
  },
  {
   "cell_type": "code",
   "execution_count": null,
   "metadata": {},
   "outputs": [],
   "source": []
  }
 ],
 "metadata": {
  "kernelspec": {
   "display_name": "Python 3",
   "language": "python",
   "name": "python3"
  },
  "language_info": {
   "codemirror_mode": {
    "name": "ipython",
    "version": 3
   },
   "file_extension": ".py",
   "mimetype": "text/x-python",
   "name": "python",
   "nbconvert_exporter": "python",
   "pygments_lexer": "ipython3",
   "version": "3.7.6"
  }
 },
 "nbformat": 4,
 "nbformat_minor": 2
}

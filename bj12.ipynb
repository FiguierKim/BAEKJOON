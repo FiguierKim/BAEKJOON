{
 "cells": [
  {
   "cell_type": "code",
   "execution_count": 5,
   "metadata": {},
   "outputs": [
    {
     "name": "stdout",
     "output_type": "stream",
     "text": [
      "2\n",
      "3 ABC\n",
      "AAABBBCCC\n",
      "5 /HTP\n",
      "/////HHHHHTTTTTPPPPP\n"
     ]
    }
   ],
   "source": [
    "T = int(input())\n",
    "\n",
    "for i in range(T):\n",
    "\n",
    "    result = []\n",
    "\n",
    "    RS = input().split(' ')\n",
    "\n",
    "    R = int(RS[0])\n",
    "\n",
    "    S = ' '.join(RS[1]).split(' ')\n",
    "\n",
    "    for j in S:\n",
    "\n",
    "        result.append(j*R)\n",
    "\n",
    "    print(''.join(result))"
   ]
  },
  {
   "cell_type": "code",
   "execution_count": 21,
   "metadata": {},
   "outputs": [
    {
     "name": "stdout",
     "output_type": "stream",
     "text": [
      "dsf\n",
      "?\n"
     ]
    }
   ],
   "source": [
    "words = input().lower()\n",
    "words_list = list(set(words))\n",
    "word_count = list()\n",
    "\n",
    "for i in words_list:\n",
    "    count = words.count(i)\n",
    "    word_count.append(count)\n",
    "\n",
    "if(word_count.count(max(word_count)) >= 2):\n",
    "    print('?')\n",
    "else:\n",
    "    print(words_list[(word_count.index(max(word_count)))].upper())"
   ]
  },
  {
   "cell_type": "code",
   "execution_count": 24,
   "metadata": {},
   "outputs": [
    {
     "name": "stdout",
     "output_type": "stream",
     "text": [
      "sdfak asdkfjasd sdfak\n",
      "3\n"
     ]
    }
   ],
   "source": [
    "a=input().split()\n",
    "print(len(a))"
   ]
  },
  {
   "cell_type": "code",
   "execution_count": null,
   "metadata": {},
   "outputs": [],
   "source": []
  }
 ],
 "metadata": {
  "kernelspec": {
   "display_name": "Python 3",
   "language": "python",
   "name": "python3"
  },
  "language_info": {
   "codemirror_mode": {
    "name": "ipython",
    "version": 3
   },
   "file_extension": ".py",
   "mimetype": "text/x-python",
   "name": "python",
   "nbconvert_exporter": "python",
   "pygments_lexer": "ipython3",
   "version": "3.7.5"
  }
 },
 "nbformat": 4,
 "nbformat_minor": 2
}

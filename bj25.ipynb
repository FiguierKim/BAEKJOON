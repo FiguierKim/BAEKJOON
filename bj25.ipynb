{
 "cells": [
  {
   "cell_type": "code",
   "execution_count": 1,
   "metadata": {},
   "outputs": [
    {
     "name": "stdout",
     "output_type": "stream",
     "text": [
      "6\n",
      "7\n",
      "2 5\n",
      "9\n",
      "2 7\n",
      "0\n",
      "9\n",
      "2 7\n",
      "7\n",
      "2 5\n",
      "6\n",
      "3 3\n"
     ]
    }
   ],
   "source": [
    "s = [0 for i in range(10001)]\n",
    "s[1] = 1\n",
    "for i in range(2, 98):\n",
    "    for j in range(i * 2, 10001, i):\n",
    "        s[j] = 1\n",
    "t = int(input())\n",
    "for i in range(t):\n",
    "    a = int(input())\n",
    "    b = a // 2\n",
    "    for j in range(b, 1, -1):\n",
    "        if s[a - j] == 0 and s[j] == 0:\n",
    "            print(j, a - j)\n",
    "            break"
   ]
  },
  {
   "cell_type": "markdown",
   "metadata": {},
   "source": []
  }
 ],
 "metadata": {
  "kernelspec": {
   "display_name": "Python 3",
   "language": "python",
   "name": "python3"
  },
  "language_info": {
   "codemirror_mode": {
    "name": "ipython",
    "version": 3
   },
   "file_extension": ".py",
   "mimetype": "text/x-python",
   "name": "python",
   "nbconvert_exporter": "python",
   "pygments_lexer": "ipython3",
   "version": "3.7.6"
  }
 },
 "nbformat": 4,
 "nbformat_minor": 2
}

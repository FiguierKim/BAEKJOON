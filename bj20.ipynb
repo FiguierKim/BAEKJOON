{
 "cells": [
  {
   "cell_type": "code",
   "execution_count": 1,
   "metadata": {},
   "outputs": [
    {
     "name": "stdout",
     "output_type": "stream",
     "text": [
      "90\n",
      "81\n"
     ]
    }
   ],
   "source": [
    "def dec(num):\n",
    "    sum = num\n",
    "    while True:\n",
    "        if num <= 0:\n",
    "            break\n",
    "        sum += num % 10\n",
    "        num = num // 10\n",
    "    return sum\n",
    "n = int(input())\n",
    "c = 0\n",
    "for i in range(1, n + 1):\n",
    "    b = dec(i)\n",
    "    if b == n:\n",
    "        c = i\n",
    "        break\n",
    "if c == 0:\n",
    "    print(0)\n",
    "else:\n",
    "    print(c)"
   ]
  },
  {
   "cell_type": "code",
   "execution_count": 5,
   "metadata": {},
   "outputs": [
    {
     "name": "stdout",
     "output_type": "stream",
     "text": [
      "3\n",
      "1 2\n",
      "5 6\n",
      "45 56\n",
      "3\n",
      "2\n",
      "1\n"
     ]
    }
   ],
   "source": [
    "N = int(input())\n",
    "\n",
    "people = []\n",
    "for _ in range(N):\n",
    "    w, h = map(int, input().split())\n",
    "    people.append((w, h))\n",
    "\n",
    "for c in people : \n",
    "    rank = 1 \n",
    "    \n",
    "    for n in people:\n",
    "        if (c[0]!=n[0]) & (c[1]!=n[1]): \n",
    "            if (c[0]<n[0]) & (c[1]<n[1]): \n",
    "                rank += 1\n",
    "            \n",
    "    print(rank)"
   ]
  },
  {
   "cell_type": "code",
   "execution_count": null,
   "metadata": {},
   "outputs": [],
   "source": []
  }
 ],
 "metadata": {
  "kernelspec": {
   "display_name": "Python 3",
   "language": "python",
   "name": "python3"
  },
  "language_info": {
   "codemirror_mode": {
    "name": "ipython",
    "version": 3
   },
   "file_extension": ".py",
   "mimetype": "text/x-python",
   "name": "python",
   "nbconvert_exporter": "python",
   "pygments_lexer": "ipython3",
   "version": "3.7.6"
  }
 },
 "nbformat": 4,
 "nbformat_minor": 2
}

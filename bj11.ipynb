{
 "cells": [
  {
   "cell_type": "code",
   "execution_count": 14,
   "metadata": {},
   "outputs": [
    {
     "name": "stdout",
     "output_type": "stream",
     "text": [
      "5\n",
      "12355\n",
      "16\n"
     ]
    }
   ],
   "source": [
    "n = int(input())\n",
    "a = list(input())\n",
    "sum = 0\n",
    "\n",
    "if len(a) == n:\n",
    "\n",
    "    for i in a:\n",
    "        sum += int(i)\n",
    "        \n",
    "    print(sum)\n",
    "    \n",
    "elif len(a) > n:\n",
    "    print('숫자를 ',len(a)-n,'개 빼고 입력해주세요')\n",
    "\n",
    "else:\n",
    "    print('숫자를 ',n-len(a),'개 더 입력해주세요')\n",
    "    \n"
   ]
  },
  {
   "cell_type": "code",
   "execution_count": 22,
   "metadata": {
    "scrolled": false
   },
   "outputs": [
    {
     "name": "stdout",
     "output_type": "stream",
     "text": [
      "fsd\n",
      "-1 -1 -1 2 -1 0 -1 -1 -1 -1 -1 -1 -1 -1 -1 -1 -1 -1 1 -1 -1 -1 -1 -1 -1 -1 "
     ]
    }
   ],
   "source": [
    "S = input()\n",
    "n = [-1]*26\n",
    " \n",
    "for i in range(len(S)):\n",
    "    if n[ord(S[i])-97] != -1:\n",
    "        continue\n",
    "    else:\n",
    "        n[ord(S[i])-97] = i\n",
    "        \n",
    "for i in range(26):\n",
    "    print(n[i], end=' ')"
   ]
  },
  {
   "cell_type": "code",
   "execution_count": null,
   "metadata": {},
   "outputs": [],
   "source": []
  }
 ],
 "metadata": {
  "kernelspec": {
   "display_name": "Python 3",
   "language": "python",
   "name": "python3"
  },
  "language_info": {
   "codemirror_mode": {
    "name": "ipython",
    "version": 3
   },
   "file_extension": ".py",
   "mimetype": "text/x-python",
   "name": "python",
   "nbconvert_exporter": "python",
   "pygments_lexer": "ipython3",
   "version": "3.7.5"
  }
 },
 "nbformat": 4,
 "nbformat_minor": 2
}

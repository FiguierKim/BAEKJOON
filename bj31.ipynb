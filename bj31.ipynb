{
 "cells": [
  {
   "cell_type": "code",
   "execution_count": 1,
   "metadata": {},
   "outputs": [
    {
     "name": "stdout",
     "output_type": "stream",
     "text": [
      "3\n"
     ]
    },
    {
     "ename": "ValueError",
     "evalue": "not enough values to unpack (expected 2, got 1)",
     "output_type": "error",
     "traceback": [
      "\u001b[1;31m---------------------------------------------------------------------------\u001b[0m",
      "\u001b[1;31mValueError\u001b[0m                                Traceback (most recent call last)",
      "\u001b[1;32m<ipython-input-1-a03dacbf332d>\u001b[0m in \u001b[0;36m<module>\u001b[1;34m\u001b[0m\n\u001b[1;32m----> 1\u001b[1;33m \u001b[0my_axis\u001b[0m\u001b[1;33m,\u001b[0m \u001b[0mx_axis\u001b[0m \u001b[1;33m=\u001b[0m \u001b[0mmap\u001b[0m\u001b[1;33m(\u001b[0m\u001b[0mint\u001b[0m\u001b[1;33m,\u001b[0m \u001b[0minput\u001b[0m\u001b[1;33m(\u001b[0m\u001b[1;33m)\u001b[0m\u001b[1;33m.\u001b[0m\u001b[0msplit\u001b[0m\u001b[1;33m(\u001b[0m\u001b[1;33m)\u001b[0m\u001b[1;33m)\u001b[0m\u001b[1;33m\u001b[0m\u001b[1;33m\u001b[0m\u001b[0m\n\u001b[0m\u001b[0;32m      2\u001b[0m \u001b[1;33m\u001b[0m\u001b[0m\n\u001b[0;32m      3\u001b[0m \u001b[0mboard\u001b[0m \u001b[1;33m=\u001b[0m \u001b[1;33m[\u001b[0m\u001b[1;33m]\u001b[0m\u001b[1;33m\u001b[0m\u001b[1;33m\u001b[0m\u001b[0m\n\u001b[0;32m      4\u001b[0m \u001b[1;32mfor\u001b[0m \u001b[0m_\u001b[0m \u001b[1;32min\u001b[0m \u001b[0mrange\u001b[0m\u001b[1;33m(\u001b[0m\u001b[0my_axis\u001b[0m\u001b[1;33m)\u001b[0m\u001b[1;33m:\u001b[0m\u001b[1;33m\u001b[0m\u001b[1;33m\u001b[0m\u001b[0m\n\u001b[0;32m      5\u001b[0m     \u001b[0mboard\u001b[0m\u001b[1;33m.\u001b[0m\u001b[0mappend\u001b[0m\u001b[1;33m(\u001b[0m\u001b[0mlist\u001b[0m\u001b[1;33m(\u001b[0m\u001b[0mmap\u001b[0m\u001b[1;33m(\u001b[0m\u001b[0mstr\u001b[0m\u001b[1;33m,\u001b[0m \u001b[0mlist\u001b[0m\u001b[1;33m(\u001b[0m\u001b[0minput\u001b[0m\u001b[1;33m(\u001b[0m\u001b[1;33m)\u001b[0m\u001b[1;33m)\u001b[0m\u001b[1;33m)\u001b[0m\u001b[1;33m)\u001b[0m\u001b[1;33m)\u001b[0m\u001b[1;33m\u001b[0m\u001b[1;33m\u001b[0m\u001b[0m\n",
      "\u001b[1;31mValueError\u001b[0m: not enough values to unpack (expected 2, got 1)"
     ]
    }
   ],
   "source": [
    "y_axis, x_axis = map(int, input().split())\n",
    "\n",
    "board = []\n",
    "for _ in range(y_axis):\n",
    "    board.append(list(map(str, list(input()))))\n",
    "    \n",
    "num_replaced_by_line_BW = [[0 for _ in range(x_axis)] for _ in range(y_axis)]\n",
    "num_replaced_by_line_WB = [[0 for _ in range(x_axis)] for _ in range(y_axis)]\n",
    "\n",
    "#BW테스트\n",
    "for i in range(x_axis):\n",
    "    for j in range(y_axis):\n",
    "        if (i + j) % 2 == 0:\n",
    "            if board[j][i] == 'B':\n",
    "                pass\n",
    "            else:\n",
    "                num_replaced_by_line_BW[j][i] += 1\n",
    "        else:\n",
    "            if board[j][i] == 'W':\n",
    "                pass\n",
    "            else:\n",
    "                num_replaced_by_line_BW[j][i] += 1\n",
    "\n",
    "#WB테스트 \n",
    "for i in range(x_axis):\n",
    "    for j in range(y_axis):\n",
    "        if (i + j) % 2 == 0:\n",
    "            if board[j][i] == 'W':\n",
    "                pass\n",
    "            else:\n",
    "                num_replaced_by_line_WB[j][i] += 1\n",
    "        else:\n",
    "            if board[j][i] == 'B':\n",
    "                pass\n",
    "            else:\n",
    "                num_replaced_by_line_WB[j][i] += 1\n",
    "\n",
    "#8x8 행렬 중 최소 값을 찾아내는 과정\n",
    "\n",
    "min_num = 64\n",
    "\n",
    "#BW판 최소값\n",
    "for i in range(7, x_axis) :\n",
    "    for j in range(7, y_axis):\n",
    "        sum_num = 0\n",
    "        for p in range(8):\n",
    "            for q in range(8):\n",
    "                if num_replaced_by_line_BW[j-q][i-p]:\n",
    "                    sum_num += 1\n",
    "        if sum_num <= min_num:\n",
    "            min_num = sum_num\n",
    "\n",
    "#WB판 최소값\n",
    "for i in range(7, x_axis) :\n",
    "    for j in range(7, y_axis):\n",
    "        sum_num = 0\n",
    "        for p in range(8):\n",
    "            for q in range(8):\n",
    "                if num_replaced_by_line_WB[j-q][i-p]:\n",
    "                    sum_num += 1\n",
    "        if sum_num <= min_num:\n",
    "            min_num = sum_num\n",
    "            \n",
    "print(int(min_num))"
   ]
  },
  {
   "cell_type": "code",
   "execution_count": null,
   "metadata": {},
   "outputs": [],
   "source": []
  }
 ],
 "metadata": {
  "kernelspec": {
   "display_name": "Python 3",
   "language": "python",
   "name": "python3"
  },
  "language_info": {
   "codemirror_mode": {
    "name": "ipython",
    "version": 3
   },
   "file_extension": ".py",
   "mimetype": "text/x-python",
   "name": "python",
   "nbconvert_exporter": "python",
   "pygments_lexer": "ipython3",
   "version": "3.7.6"
  }
 },
 "nbformat": 4,
 "nbformat_minor": 2
}

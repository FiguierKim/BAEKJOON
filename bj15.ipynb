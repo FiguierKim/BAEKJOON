{
 "cells": [
  {
   "cell_type": "code",
   "execution_count": 11,
   "metadata": {},
   "outputs": [
    {
     "name": "stdout",
     "output_type": "stream",
     "text": [
      "8 9 10\n",
      "9\n"
     ]
    }
   ],
   "source": [
    "A, B, C = list(map(int, input().split()))\n",
    "BREAK_EVEN_POINT = 0\n",
    "\n",
    "\n",
    "if(C <= B):\n",
    "    BREAK_EVEN_POINT = -1\n",
    "else:\n",
    "    BREAK_EVEN_POINT = A // (C - B) + 1 \n",
    "print(BREAK_EVEN_POINT)"
   ]
  },
  {
   "cell_type": "code",
   "execution_count": 22,
   "metadata": {},
   "outputs": [
    {
     "name": "stdout",
     "output_type": "stream",
     "text": [
      "100\n",
      "20\n"
     ]
    }
   ],
   "source": [
    "n = int(input())\n",
    "F = n//5\n",
    "n%=5\n",
    "T = 0\n",
    "\n",
    "while F>=0:\n",
    "    if n%3 == 0:\n",
    "        T = n//3\n",
    "        n = n%3\n",
    "        break\n",
    "    F-=1\n",
    "    n+=5\n",
    "print((n==0) and (F+T) or -1)"
   ]
  },
  {
   "cell_type": "code",
   "execution_count": null,
   "metadata": {},
   "outputs": [],
   "source": []
  }
 ],
 "metadata": {
  "kernelspec": {
   "display_name": "Python 3",
   "language": "python",
   "name": "python3"
  },
  "language_info": {
   "codemirror_mode": {
    "name": "ipython",
    "version": 3
   },
   "file_extension": ".py",
   "mimetype": "text/x-python",
   "name": "python",
   "nbconvert_exporter": "python",
   "pygments_lexer": "ipython3",
   "version": "3.7.5"
  }
 },
 "nbformat": 4,
 "nbformat_minor": 2
}
